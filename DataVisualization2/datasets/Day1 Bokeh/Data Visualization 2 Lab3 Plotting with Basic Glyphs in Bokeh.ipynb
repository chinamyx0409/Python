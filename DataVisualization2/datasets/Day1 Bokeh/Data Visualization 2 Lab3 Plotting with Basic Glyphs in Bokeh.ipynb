{
 "cells": [
  {
   "cell_type": "code",
   "execution_count": 4,
   "metadata": {},
   "outputs": [],
   "source": [
    "from bokeh.plotting import figure, output_file, show\n",
    "\n",
    "\n",
    "p = figure(plot_width=400, plot_height=400)\n",
    "\n",
    "p.vbar(\n",
    "    x=[1,2,3,4,5],\n",
    "    width = 0.5,\n",
    "    bottom = 0,\n",
    "    top = [2,4,5,6.5,10],\n",
    "    color = 'firebrick'\n",
    "\n",
    ")\n",
    "output_file('vbar.html')\n",
    "show(p)"
   ]
  },
  {
   "cell_type": "code",
   "execution_count": 6,
   "metadata": {},
   "outputs": [
    {
     "name": "stdout",
     "output_type": "stream",
     "text": [
      "2.2.3\n"
     ]
    }
   ],
   "source": [
    "import bokeh\n",
    "print(bokeh.__version__)"
   ]
  },
  {
   "cell_type": "code",
   "execution_count": 12,
   "metadata": {},
   "outputs": [],
   "source": [
    "import pandas as pd\n",
    "from bokeh.models import ColumnDataSource\n",
    "\n"
   ]
  },
  {
   "cell_type": "code",
   "execution_count": 20,
   "metadata": {},
   "outputs": [],
   "source": [
    "from bokeh.plotting import figure, output_file, show\n",
    "import pandas as pd\n",
    "from bokeh.models import ColumnDataSource\n",
    "df = pd.DataFrame(\n",
    "    dict(\n",
    "        x=[1,2,3,4,5],\n",
    "        y=[2,4,6,8.5,10],    \n",
    "    )\n",
    ")\n",
    "source = ColumnDataSource(data=df)\n",
    "p = figure(plot_width=400, plot_height=400)\n",
    "p.vbar(\n",
    "    source = source,\n",
    "    x = 'x',\n",
    "    width = 0.5,\n",
    "    bottom = 0,\n",
    "    top = 'y',\n",
    "    color = 'firebrick'\n",
    ")\n",
    "output_file('vbar.html')\n",
    "show(p)"
   ]
  },
  {
   "cell_type": "code",
   "execution_count": 21,
   "metadata": {},
   "outputs": [],
   "source": [
    "from bokeh.plotting import figure, output_file, show\n",
    "import pandas as pd\n",
    "from bokeh.models import ColumnDataSource\n",
    "\n",
    "df = pd.DataFrame(\n",
    "    dict(\n",
    "        x=['Apple','Banna','flower','ccoco','kiwi'],\n",
    "        y=[2,4,6,8.5,10],    \n",
    "    )\n",
    ")\n",
    "source = ColumnDataSource(data=df)\n",
    "p = figure(\n",
    "    x_range=source.data['x'],\n",
    "    plot_width=400, plot_height=400)\n",
    "\n",
    "p.vbar(\n",
    "    source = source,\n",
    "    x = 'x',\n",
    "    width = 0.5,\n",
    "    bottom = 0,\n",
    "    top = 'y',\n",
    "    color = 'firebrick'\n",
    ")\n",
    "output_file('vbar.html')\n",
    "show(p)"
   ]
  },
  {
   "cell_type": "code",
   "execution_count": 22,
   "metadata": {},
   "outputs": [],
   "source": [
    "#display veritical bars with legends \n",
    "from bokeh.io import show, output_file\n",
    "from bokeh.models import ColumnDataSource\n",
    "from bokeh.palettes import Spectral\n",
    "from bokeh.plotting import figure\n",
    "from bokeh.transform import factor_cmap\n",
    "output_file(\"color_bars.html\")\n",
    "df = pd.DataFrame(dict(\n",
    "    fruits=['Apples', 'Oranges', 'Durians'], \n",
    "    counts=[8, 2, 6])\n",
    ")\n",
    "source = ColumnDataSource(data=df)\n",
    "p = figure(x_range=source.data['fruits'], \n",
    "           plot_height=350, \n",
    "           toolbar_location=None, \n",
    "           title=\"Fruits\")\n",
    "p.vbar(x = 'fruits', \n",
    "       top = 'counts', \n",
    "       width = 0.9, \n",
    "       source = source, \n",
    "       legend_field = 'fruits',\n",
    "       line_color = 'black', \n",
    "       fill_color = factor_cmap('fruits', palette=Spectral[6],\n",
    "                    factors=source.data['fruits']))\n",
    "p.xgrid.grid_line_color = None\n",
    "p.ygrid.grid_line_color = 'lightgray'\n",
    "p.y_range.start = 0\n",
    "p.y_range.end = 10\n",
    "p.legend.orientation = \"horizontal\"\n",
    "p.legend.location = \"top_center\"\n",
    "show(p)\n"
   ]
  },
  {
   "cell_type": "code",
   "execution_count": 25,
   "metadata": {},
   "outputs": [
    {
     "data": {
      "text/plain": [
       "{3: ('#99d594', '#ffffbf', '#fc8d59'),\n",
       " 4: ('#2b83ba', '#abdda4', '#fdae61', '#d7191c'),\n",
       " 5: ('#2b83ba', '#abdda4', '#ffffbf', '#fdae61', '#d7191c'),\n",
       " 6: ('#3288bd', '#99d594', '#e6f598', '#fee08b', '#fc8d59', '#d53e4f'),\n",
       " 7: ('#3288bd',\n",
       "  '#99d594',\n",
       "  '#e6f598',\n",
       "  '#ffffbf',\n",
       "  '#fee08b',\n",
       "  '#fc8d59',\n",
       "  '#d53e4f'),\n",
       " 8: ('#3288bd',\n",
       "  '#66c2a5',\n",
       "  '#abdda4',\n",
       "  '#e6f598',\n",
       "  '#fee08b',\n",
       "  '#fdae61',\n",
       "  '#f46d43',\n",
       "  '#d53e4f'),\n",
       " 9: ('#3288bd',\n",
       "  '#66c2a5',\n",
       "  '#abdda4',\n",
       "  '#e6f598',\n",
       "  '#ffffbf',\n",
       "  '#fee08b',\n",
       "  '#fdae61',\n",
       "  '#f46d43',\n",
       "  '#d53e4f'),\n",
       " 10: ('#5e4fa2',\n",
       "  '#3288bd',\n",
       "  '#66c2a5',\n",
       "  '#abdda4',\n",
       "  '#e6f598',\n",
       "  '#fee08b',\n",
       "  '#fdae61',\n",
       "  '#f46d43',\n",
       "  '#d53e4f',\n",
       "  '#9e0142'),\n",
       " 11: ('#5e4fa2',\n",
       "  '#3288bd',\n",
       "  '#66c2a5',\n",
       "  '#abdda4',\n",
       "  '#e6f598',\n",
       "  '#ffffbf',\n",
       "  '#fee08b',\n",
       "  '#fdae61',\n",
       "  '#f46d43',\n",
       "  '#d53e4f',\n",
       "  '#9e0142')}"
      ]
     },
     "execution_count": 25,
     "metadata": {},
     "output_type": "execute_result"
    }
   ],
   "source": [
    "Spectral #colors"
   ]
  },
  {
   "cell_type": "code",
   "execution_count": 26,
   "metadata": {},
   "outputs": [
    {
     "data": {
      "text/plain": [
       "('#99d594', '#ffffbf', '#fc8d59')"
      ]
     },
     "execution_count": 26,
     "metadata": {},
     "output_type": "execute_result"
    }
   ],
   "source": [
    "Spectral[3]  #colors"
   ]
  },
  {
   "cell_type": "code",
   "execution_count": 27,
   "metadata": {},
   "outputs": [],
   "source": [
    "#https://docs.bokeh.org/en/latest/docs/reference/palettes.html"
   ]
  },
  {
   "cell_type": "code",
   "execution_count": null,
   "metadata": {},
   "outputs": [],
   "source": []
  },
  {
   "cell_type": "code",
   "execution_count": 42,
   "metadata": {},
   "outputs": [],
   "source": [
    "#horitzonatl bar\n",
    "from bokeh.plotting import figure, output_file, show \n",
    "output_file('hbar.html')\n",
    "p = figure(plot_width=400, plot_height=400)\n",
    "\n",
    "p.hbar(y = [1,2,3,4,5], \n",
    "       height = 0.5, \n",
    "       left = 0,\n",
    "       right = [2, 4, 6, 8.5, 10], \n",
    "       color = Category20[5]\n",
    "       #color = 'navy')\n",
    "show(p)\n"
   ]
  },
  {
   "cell_type": "code",
   "execution_count": null,
   "metadata": {},
   "outputs": [],
   "source": []
  }
 ],
 "metadata": {
  "kernelspec": {
   "display_name": "Python 3",
   "language": "python",
   "name": "python3"
  },
  "language_info": {
   "codemirror_mode": {
    "name": "ipython",
    "version": 3
   },
   "file_extension": ".py",
   "mimetype": "text/x-python",
   "name": "python",
   "nbconvert_exporter": "python",
   "pygments_lexer": "ipython3",
   "version": "3.8.5"
  }
 },
 "nbformat": 4,
 "nbformat_minor": 4
}
