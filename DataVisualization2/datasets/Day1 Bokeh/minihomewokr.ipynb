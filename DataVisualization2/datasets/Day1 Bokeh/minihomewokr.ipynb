{
 "cells": [
  {
   "cell_type": "code",
   "execution_count": null,
   "metadata": {},
   "outputs": [],
   "source": [
    "#graph cosine\n",
    "from bokeh.plotting import figure, output_file, show #juptyer noteboook \n",
    "import numpy as np\n",
    "import math\n",
    "from bokeh.layouts import gridplot\n",
    "\n",
    "# 360 degress = 2pi radian\n",
    "x = np.arange(0, math.pi*2, 0.05)\n",
    "y_sin = np.sin(x)\n",
    "y_cos = np.cos(x)\n",
    "y_tan = np.tan(x)\n",
    "\n",
    "print(x)\n",
    "print(y)\n",
    "\n",
    "p1 = figure()\n",
    "p1.line( x, y_sin, color ='blue', legend_label = 'sine curve', line_width= 5)\n",
    "\n",
    "\n",
    "p2 = figure()\n",
    "p2.line( x, y_cos, color ='red', legend_label = 'cosine curve')\n",
    "\n",
    "\n",
    "p3 = figure()\n",
    "p3.line( x, y_tan, color ='green', legend_label = 'tanget curve')\n",
    "\n",
    "grid = gridplot(\n",
    "    [p1,p2,p3],\n",
    "    ncols = 2,\n",
    "    sizing_mode = 'scale_height'\n",
    "\n",
    ")\n",
    "\n",
    "#for jupyter\n",
    "output_file('sine.html')#to prevent diferent tabel\n",
    "show(grid)\n",
    "#show(p1)\n",
    "#show(p2)\n",
    "#show(p3)"
   ]
  }
 ],
 "metadata": {
  "kernelspec": {
   "display_name": "Python 3",
   "language": "python",
   "name": "python3"
  },
  "language_info": {
   "codemirror_mode": {
    "name": "ipython",
    "version": 3
   },
   "file_extension": ".py",
   "mimetype": "text/x-python",
   "name": "python",
   "nbconvert_exporter": "python",
   "pygments_lexer": "ipython3",
   "version": "3.8.5"
  }
 },
 "nbformat": 4,
 "nbformat_minor": 4
}
