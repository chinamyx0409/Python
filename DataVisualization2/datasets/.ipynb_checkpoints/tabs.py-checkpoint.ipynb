{
 "cells": [
  {
   "cell_type": "code",
   "execution_count": 12,
   "metadata": {},
   "outputs": [],
   "source": [
    "from bokeh.plotting import figure, output_file, show\n",
    "from bokeh.models import Panel, Tabs\n",
    "from bokeh.io import curdoc\n",
    "from bokeh.layouts import column\n",
    "from bokeh.models import Range1d\n",
    "\n",
    "import numpy as np\n",
    "import math\n",
    "width = 500\n",
    "height = 500\n",
    "x = np.arange(0, math.pi*12, 0.05)\n",
    "p1 = figure(plot_width=width, plot_height=height)\n",
    "p1.x_range = Range1d(0, math.pi*2)\n",
    "p1.line(x, np.sin(x),line_width=2, line_color='navy')\n",
    "tab1 = Panel(child = p1, title = \"Sine\")\n",
    "p2 = figure(plot_width=width, plot_height=height)\n",
    "p2.x_range = Range1d(0, math.pi*2)\n",
    "p2.line(x,np.cos(x), line_width=2, line_color='orange')\n",
    "tab2 = Panel(child=p2, title = \"Cos\")\n",
    "p3 = figure(plot_width=width, plot_height=height)\n",
    "p3.x_range = Range1d(0, math.pi*2)\n",
    "p3.y_range = Range1d(-5, 5)\n",
    "p3.line(x,np.tan(x), line_width=2, line_color='green')\n",
    "tab3 = Panel(child=p3, title = \"Tan\")\n",
    "tabs = Tabs(tabs=[ tab1, tab2, tab3 ])\n",
    "\n",
    "curdoc().add_root(column(tabs))\n",
    "curdoc().title = \"Trigonometry\"\n"
   ]
  },
  {
   "cell_type": "code",
   "execution_count": null,
   "metadata": {},
   "outputs": [],
   "source": []
  }
 ],
 "metadata": {
  "kernelspec": {
   "display_name": "Python 3",
   "language": "python",
   "name": "python3"
  },
  "language_info": {
   "codemirror_mode": {
    "name": "ipython",
    "version": 3
   },
   "file_extension": ".py",
   "mimetype": "text/x-python",
   "name": "python",
   "nbconvert_exporter": "python",
   "pygments_lexer": "ipython3",
   "version": "3.8.5"
  }
 },
 "nbformat": 4,
 "nbformat_minor": 4
}
