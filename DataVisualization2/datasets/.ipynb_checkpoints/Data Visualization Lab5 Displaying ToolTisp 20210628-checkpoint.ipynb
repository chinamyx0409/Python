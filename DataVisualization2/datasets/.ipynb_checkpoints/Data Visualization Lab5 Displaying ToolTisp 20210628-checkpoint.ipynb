{
 "cells": [
  {
   "cell_type": "code",
   "execution_count": 22,
   "metadata": {},
   "outputs": [],
   "source": [
    "#https://www.programiz.com/python-programming/methods/string/format\n",
    "    \n",
    "\n",
    "import pandas as pd\n",
    "from bokeh.plotting import figure, output_file, show\n",
    "from bokeh.models import ColumnDataSource\n",
    "from bokeh.models.tools import HoverTool\n",
    "from datetime import datetime\n",
    "\n",
    "# https://docs.bokeh.org/en/latest/docs/user_guide/tools.html#custom-tooltip\n",
    "# https://plotly.com/python/hover-text-and-formatting/   \n",
    "    \n",
    "df = pd.read_csv('C:\\\\Users\\\\admin\\\\db2\\\\datasets\\\\Datasets\\\\AMZN.csv', parse_dates=['Date'])\n",
    "source = ColumnDataSource(df)\n",
    "\n",
    "output_file('AMNZ.html')\n",
    "\n",
    "p = figure(x_axis_type='datetime')\n",
    "p.line(x='Date',y='Close',source=source,color='green')\n",
    "\n",
    "hover =HoverTool(formatters={'@Date':'datetime'})\n",
    "hover.tooltips = [\n",
    "    ('Date','@Date{%Y-%m-%d %b}'),\n",
    "      ('Open','@Open{$0,0.0f}'),\n",
    "     #('Open','@Open{$0,0.0f}'),\n",
    "      ('Close','@Close{$0,0.0f}'),\n",
    "      ('High','@High{$0,0.0f}'),\n",
    "      ('Low','@Low{$0,0.0f}'),\n",
    "      ('Adj close','@{Adj Close}{$0,0.0f}'),\n",
    "      ('Volume','@Volume{0,0f}')\n",
    "]\n",
    "\n",
    "\n",
    "p.add_tools(hover)\n",
    "show(p)\n"
   ]
  },
  {
   "cell_type": "code",
   "execution_count": 1,
   "metadata": {},
   "outputs": [
    {
     "name": "stdout",
     "output_type": "stream",
     "text": [
      "['Apple', 'Orange', 'Pear']\n"
     ]
    }
   ],
   "source": [
    "chosen_fruits = ['Apple','Orange','Pear']\n",
    "count = 0\n",
    "d_ = []\n",
    "while count < len(chosen_fruits):\n",
    "    fruits = ['Orange','Pear','Apple','Pineapple','Blueberry','Strawberry']\n",
    "    for fruit in fruits:\n",
    "            if fruit == chosen_fruits[count]:\n",
    "                # you found the fruit!\n",
    "                d_.append(fruit)\n",
    "                count = count + 1\n",
    "                break\n",
    "print(d_)"
   ]
  },
  {
   "cell_type": "code",
   "execution_count": null,
   "metadata": {},
   "outputs": [],
   "source": []
  },
  {
   "cell_type": "code",
   "execution_count": null,
   "metadata": {},
   "outputs": [],
   "source": []
  }
 ],
 "metadata": {
  "kernelspec": {
   "display_name": "Python 3",
   "language": "python",
   "name": "python3"
  },
  "language_info": {
   "codemirror_mode": {
    "name": "ipython",
    "version": 3
   },
   "file_extension": ".py",
   "mimetype": "text/x-python",
   "name": "python",
   "nbconvert_exporter": "python",
   "pygments_lexer": "ipython3",
   "version": "3.8.5"
  }
 },
 "nbformat": 4,
 "nbformat_minor": 4
}
