{
 "cells": [
  {
   "cell_type": "code",
   "execution_count": 6,
   "metadata": {},
   "outputs": [],
   "source": [
    "from bokeh.plotting import figure, output_file, show\n",
    "import pandas as pd\n",
    "from bokeh.models import ColumnDataSource\n",
    "\n",
    "df = pd.DataFrame(\n",
    "    dict(\n",
    "        x=['Apple','Banna','flower','ccoco','kiwi'],\n",
    "        y=[2,4,6,8.5,10],    \n",
    "    )\n",
    ")\n",
    "source = ColumnDataSource(data=df)\n",
    "p = figure(\n",
    "    x_range=source.data['x'],\n",
    "    plot_width=400, plot_height=400)\n",
    "\n",
    "p.vbar(\n",
    "    source = source,\n",
    "    x = 'x',\n",
    "    width = 0.5,\n",
    "    bottom = 0,\n",
    "    top = 'y',\n",
    "    color = 'firebrick'\n",
    ")\n",
    "output_file('vbar.html')\n",
    "show(p)"
   ]
  },
  {
   "cell_type": "code",
   "execution_count": 8,
   "metadata": {},
   "outputs": [],
   "source": [
    "#display veritical bars with legends \n",
    "from bokeh.io import show, output_file\n",
    "from bokeh.models import ColumnDataSource\n",
    "from bokeh.palettes import Spectral\n",
    "from bokeh.plotting import figure\n",
    "from bokeh.transform import factor_cmap\n",
    "output_file(\"color_bars.html\")\n",
    "df = pd.DataFrame(dict(\n",
    "    fruits=['Apples', 'Oranges', 'Durians'], \n",
    "    counts=[8, 2, 6])\n",
    ")\n",
    "source = ColumnDataSource(data=df)\n",
    "p = figure(x_range=source.data['fruits'], \n",
    "           plot_height=350, \n",
    "           toolbar_location=None, \n",
    "           title=\"Fruits\")\n",
    "p.vbar(x = 'fruits', \n",
    "       top = 'counts', \n",
    "       width = 0.9, \n",
    "       source = source, \n",
    "       legend_field = 'fruits',\n",
    "       line_color = 'black', \n",
    "       fill_color = factor_cmap('fruits', palette=Spectral[6],\n",
    "                    factors=source.data['fruits']))\n",
    "p.xgrid.grid_line_color = None\n",
    "p.ygrid.grid_line_color = 'lightgray'\n",
    "p.y_range.start = 0\n",
    "p.y_range.end = 10\n",
    "p.legend.orientation = \"horizontal\"\n",
    "p.legend.location = \"top_center\"\n",
    "show(p)\n"
   ]
  },
  {
   "cell_type": "code",
   "execution_count": null,
   "metadata": {},
   "outputs": [],
   "source": []
  }
 ],
 "metadata": {
  "kernelspec": {
   "display_name": "Python 3",
   "language": "python",
   "name": "python3"
  },
  "language_info": {
   "codemirror_mode": {
    "name": "ipython",
    "version": 3
   },
   "file_extension": ".py",
   "mimetype": "text/x-python",
   "name": "python",
   "nbconvert_exporter": "python",
   "pygments_lexer": "ipython3",
   "version": "3.8.5"
  }
 },
 "nbformat": 4,
 "nbformat_minor": 4
}
