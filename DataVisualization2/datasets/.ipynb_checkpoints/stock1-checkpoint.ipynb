{
 "cells": [
  {
   "cell_type": "code",
   "execution_count": 2,
   "metadata": {},
   "outputs": [],
   "source": [
    "import pandas as pd\n",
    "from bokeh.plotting import figure\n",
    "from bokeh.models import ColumnDataSource, Select\n",
    "from bokeh.layouts import column\n",
    "from bokeh.io import curdoc\n",
    "# load the dataframe\n",
    "df = pd.read_csv('AAPL.csv', parse_dates=['Date'])\n",
    "# extract the columns\n",
    "Date = df['Date']\n",
    "Close = df['Close']\n",
    "AdjClose = df['Adj Close']\n",
    "# create the data source\n",
    "source = ColumnDataSource(data=\n",
    "{\n",
    "    'x' : Date,\n",
    "    'y' : Close\n",
    "})\n",
    "# called when the Select item changes in value\n",
    "def update_plot(attr, old, new):    \n",
    "    if new == 'Close': \n",
    "        source.data = {                  # update the data source \n",
    "            'x' : Date,\n",
    "            'y' : Close\n",
    "        }\n",
    "        p.yaxis.axis_label = 'Close'\n",
    "    else:\n",
    "        source.data = {                  # update the data source\n",
    "            'x' : Date,\n",
    "            'y' : AdjClose\n",
    "        }\n",
    "        p.yaxis.axis_label = 'Adj Close'\n",
    "        \n",
    "        \n",
    "        # display a selection menu; Select is a Bokeh widget\n",
    "menu = Select(options=[('Close','Close'),('Adj Close','Adjusted Close')],\n",
    "              value='Close', \n",
    "              title = 'AAPL Stocks')\n",
    "# callback when the Select menu changes its value\n",
    "menu.on_change('value', update_plot)\n",
    "p = figure(x_axis_type='datetime')       # display the x-axis as dates\n",
    "p.line('x', \n",
    "       'y',\n",
    "       source=source,\n",
    "       color='green')\n",
    "p.title.text = 'AAPL Stock Prices'\n",
    "p.xaxis.axis_label = 'Date'\n",
    "p.yaxis.axis_label = 'Close'\n",
    "curdoc().add_root(column(menu, p))\n",
    "curdoc().title = \"Stock Prices of AAPL\""
   ]
  },
  {
   "cell_type": "code",
   "execution_count": 4,
   "metadata": {},
   "outputs": [],
   "source": [
    "# called when the Select item changes in value\n",
    "def update_plot(event):    \n",
    "    if event.item == 'AAPL':\n",
    "        df = pd.read_csv('AAPL.csv', parse_dates=['Date'])\n",
    "        Date = df['Date']\n",
    "        Close = df['Close']            \n",
    "        p.title.text = 'AAPL Stock Prices'\n",
    "    elif event.item=='MSFT':\n",
    "        df = pd.read_csv('MSFT.csv', parse_dates=['Date'])\n",
    "        Date = df['Date']\n",
    "        Close = df['Close']        \n",
    "        p.title.text = 'MSFT Stock Prices'\n",
    "    else:\n",
    "        df = pd.read_csv('AMZN.csv', parse_dates=['Date'])\n",
    "        Date = df['Date']\n",
    "        Close = df['Close']        \n",
    "        p.title.text = 'GOOG Stock Prices'\n",
    "        \n",
    "        \n",
    "    source.data = {\n",
    "        'x' : Date,\n",
    "        'y' : Close\n",
    "    }"
   ]
  },
  {
   "cell_type": "code",
   "execution_count": null,
   "metadata": {},
   "outputs": [],
   "source": [
    "#display drop down menu\n"
   ]
  }
 ],
 "metadata": {
  "kernelspec": {
   "display_name": "Python 3",
   "language": "python",
   "name": "python3"
  },
  "language_info": {
   "codemirror_mode": {
    "name": "ipython",
    "version": 3
   },
   "file_extension": ".py",
   "mimetype": "text/x-python",
   "name": "python",
   "nbconvert_exporter": "python",
   "pygments_lexer": "ipython3",
   "version": "3.8.5"
  }
 },
 "nbformat": 4,
 "nbformat_minor": 4
}
