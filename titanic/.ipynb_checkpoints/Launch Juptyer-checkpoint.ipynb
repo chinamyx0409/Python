{
 "cells": [
  {
   "cell_type": "code",
   "execution_count": 1,
   "id": "1ddf53ae",
   "metadata": {},
   "outputs": [
    {
     "name": "stdout",
     "output_type": "stream",
     "text": [
      " Volume in drive D is Projects_Coder\n",
      " Volume Serial Number is 7C7A-D131\n",
      "\n",
      " Directory of D:\\Python\\titanic\n",
      "\n",
      "07/03/2021  09:54 PM    <DIR>          .\n",
      "07/03/2021  09:54 PM    <DIR>          ..\n",
      "07/03/2021  09:54 PM    <DIR>          .ipynb_checkpoints\n",
      "12/11/2019  02:17 AM             3,258 gender_submission.csv\n",
      "07/03/2021  09:22 PM                42 how to start juptyer notebook.txt\n",
      "12/11/2019  02:17 AM            28,629 test.csv\n",
      "12/11/2019  02:17 AM            61,194 train.csv\n",
      "06/29/2021  05:57 PM             7,081 Untitled.ipynb\n",
      "07/03/2021  09:54 PM               576 Untitled1.ipynb\n",
      "               6 File(s)        100,780 bytes\n",
      "               3 Dir(s)  160,930,050,048 bytes free\n"
     ]
    }
   ],
   "source": [
    "!dir"
   ]
  },
  {
   "cell_type": "code",
   "execution_count": null,
   "id": "52db3624",
   "metadata": {},
   "outputs": [],
   "source": []
  }
 ],
 "metadata": {
  "kernelspec": {
   "display_name": "Python 3",
   "language": "python",
   "name": "python3"
  },
  "language_info": {
   "codemirror_mode": {
    "name": "ipython",
    "version": 3
   },
   "file_extension": ".py",
   "mimetype": "text/x-python",
   "name": "python",
   "nbconvert_exporter": "python",
   "pygments_lexer": "ipython3",
   "version": "3.8.8"
  }
 },
 "nbformat": 4,
 "nbformat_minor": 5
}
